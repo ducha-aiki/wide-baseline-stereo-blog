{
 "cells": [
  {
   "cell_type": "markdown",
   "metadata": {},
   "source": [
    "# \"WxBS: Relaunching challenging benchmark for Image Matching\"\n",
    "> \"And I mean really challenging\"\n",
    "\n",
    "- toc: false\n",
    "- image: images/loftr_match.png\n",
    "- branch: master\n",
    "- badges: true\n",
    "- comments: true\n",
    "- hide: false\n",
    "- search_exclude: false"
   ]
  },
  {
   "cell_type": "markdown",
   "metadata": {},
   "source": [
    "## The hardest image matching benchmark\n",
    "\n",
    "Previously we have discussed [what is WxBS in general](https://ducha-aiki.github.io/wide-baseline-stereo-blog/2021/01/09/wxbs-in-simple-terms.html), [how to match images from a really different viewpoints](https://ducha-aiki.github.io/wide-baseline-stereo-blog/2020/08/06/affine-view-synthesis.html) and also took a look into [Image Matching Challenge 2020](https://ducha-aiki.github.io/wide-baseline-stereo-blog/2021/05/14/IMC2020-competition-recap.html). Let's now speak about how to measure progress on images, which are really hard to match even to human? \n",
    "\n",
    "For example, which have been taked in day-vs-night, years apart AND from different camera positions? One cannot register them to some 3d model, because they are too hard. And there is no 3D model either.\n",
    "\n",
    "![](2021-07-28-Reviving-WxBS-benchmark_files/att_00001.png \"Kyiv, Ukraine. Image pair from WxBS dataset\")\n",
    "\n",
    "\n",
    "Well, in that case one could go back to basics and *handlabel* the correspondences between the images. Such annotation is unlikely to be very precise, but it is going to be quite robust, if the labeler is careful. \n",
    "\n",
    "\n",
    "That is what I have done 6 years ago and published such a dataset at [BMVC 2015](http://www.bmva.org/bmvc/2015/papers/paper012/index.html) together with a benchmark of popular image matchers of that time. None of them was able to successfully match even a fraction of the WxBS dataset.\n",
    "\n",
    "![](2021-07-28-Reviving-WxBS-benchmark_files/att_00002.png \"Handlabeled correspondences in pixelstitch. The image in the bottom shows the correspondences and epipolar lines induced by them.\")\n",
    "\n",
    "\n",
    "However, as I was quite inexpereinced in product packaging, as well as in software engineering, the benchmark existed as dataset + bunch of bash and Matlab scripts. It is needless to say, that nobody evaluated their algorithms on it. \n",
    "That made me sad, however, I never found time to make this benchmark easy to use.\n",
    "Well, now I did it and want to share the evaluation of the recent agorithms on such a hard data.\n"
   ]
  },
  {
   "cell_type": "markdown",
   "metadata": {},
   "source": [
    "## Not that fast! Problem with a fundamental matrix and how to solve them\n",
    "\n",
    "\n",
    "OK, we have ground truth correspondences. Now what? Ideally one can estimate epipolar geometry from as little, as 7 correspondences, but in practice? No. The problem is that there could be many relative camera poses, which are consistent with the correspondences, especially when correspondences lie in plane and the camera calibration is unknown. \n",
    "\n",
    "Let's consider a simple example: we have 13 correspondences and they seems to be correct. Are they enough for finding good epipolar geometry? This question can be answered via leave-one-out validation procedure, described in [VSAC paper](https://arxiv.org/abs/2106.10240). We remove a single correspondence, estimate a fundamental matrix via DLT algorithm on the rest of the correspondences and see how the estimated epipolar geometry is changed (or not).\n",
    "\n",
    "As you can see on the animation below, the epipolar geometry estimation from our 13 correspondences is not stable and removing any of them results in noticable change. \n",
    "\n",
    "![](2021-07-28-Reviving-WxBS-benchmark_files/epi1.gif)\n",
    "\n",
    "\n",
    "So, if even manually labeled corresposndences are not good enough, what can be done?\n",
    "\n",
    "First, simply add more correspondences, which are spread across image AND depth levels as even as possible. That is what I did recently, in order to make WxBS labeling better. However, it is not always possible -- sometimes you have lots of correspondence on \"faraway background plane\" and very little somewhere on foreground, see next picture.\n",
    "\n",
    "![](2021-07-28-Reviving-WxBS-benchmark_files/epi_harder.gif)\n",
    "\n",
    "What else can be done? We can go other way round and *not provide any ground truth fundamental matrix at all*. \n",
    "Instead, we ask methods, which we evaluate, to give us such matrix *F_est*, then check, how many ground truth correspondences are consident with it. \n",
    "\n",
    "The bad thing about it, is that unless all 100% GT correspondences are consistent with *F_est*, *F_est* is completely wrong in terms of camera pose accuracy. So, such a binary signal on a very challenging pairs is not that useful. \n",
    "The good thing about it, is that if, say, 50% GT correspondences are consistent with *F_est*, it means that detected (not GT) correspondences *on the part of the image* are correct (e.g. on some dominant plane) and at least there we are OK. \n",
    "\n",
    "If you are interested in more mathematical definition, here it is:\n",
    "\n",
    "\n",
    "The recall on ground truth correspondences $C_i$ of image pair $i$ and for geometry model $\\mathbf{M}_i$ is computed as a function of a threshold $\\theta$\n",
    "\n",
    "\\begin{equation}\n",
    " \\mathrm{r}_{i,\\mathbf{M}_i}(\\theta) = \\frac{| \\{(\\mathbf{u},\\mathbf{v}) : (\\mathbf{u},\\mathbf{v}) \\in C_i,  e(\\mathbf{M}_i,\\mathbf{u},\\mathbf{v}) < \\theta\\}|}{| C_i |}\n",
    "% \\mathrm{r}_{i,\\mathbf{M}_i}(\\theta) = \\frac{| \\{(\\mathbf{u}_i,\\mathbf{v}_i) : (\\mathbf{u}_i,\\mathbf{v}_i) \\in C_i,  e(\\mathbf{M}_i,\\mathbf{u},\\mathbf{v}) < \\theta\\}|}{| C_i |}\n",
    "\\end{equation}\n",
    "\n",
    "using [symmetric epipolar distance](https://kornia.readthedocs.io/en/latest/geometry.epipolar.html#kornia.geometry.epipolar.symmetrical_epipolar_distance). "
   ]
  },
  {
   "cell_type": "markdown",
   "metadata": {},
   "source": [
    "## Let's evaluate!\n",
    "\n",
    "First I will show you how to run the WxBS benchmark yourself and then present the results I got.  Benchmark is available from pip:"
   ]
  },
  {
   "cell_type": "code",
   "execution_count": null,
   "metadata": {},
   "outputs": [],
   "source": [
    "!pip install wxbs_benchmark\n",
    "!pip install kornia_moons"
   ]
  },
  {
   "cell_type": "markdown",
   "metadata": {},
   "source": [
    "Now we will write a simple function using OpenCV RootSIFT and [MAGSAC++](https://arxiv.org/abs/1912.05909). RootSIFT is a gold standard handcrafted local feature and MAGSAC++ is a state-of-the-art RANSAC, which is not sensitive to an inlier threshold, as [my recent benchmark](https://ducha-aiki.github.io/wide-baseline-stereo-blog/2021/05/17/OpenCV-New-RANSACs.html) shows. We will match then using mutual second nearest ratio, as implemented in [kornia](https://github.com/kornia/kornia)"
   ]
  },
  {
   "cell_type": "code",
   "execution_count": null,
   "metadata": {},
   "outputs": [],
   "source": [
    "import matplotlib.pyplot as plt\n",
    "import numpy as np\n",
    "import cv2\n",
    "import torch\n",
    "import kornia.feature as KF\n",
    "from kornia_moons.feature import *\n",
    "from wxbs_benchmark.dataset import *\n",
    "from wxbs_benchmark.evaluation import *\n",
    "from tqdm import tqdm \n",
    "\n",
    "def sift2rootsift(desc):\n",
    "    desc /= desc.sum(axis=1, keepdims=True) + 1e-8\n",
    "    desc = np.sqrt(desc)\n",
    "    return desc\n",
    "\n",
    "def estimate_F_WithRootSIFT(img1, img2):\n",
    "    det = cv2.SIFT_create(8000, contrastThreshold=-10000, edgeThreshold=10000)\n",
    "    kps1, descs1 = det.detectAndCompute(img1, None)\n",
    "    kps2, descs2 = det.detectAndCompute(img2, None)\n",
    "    descs1 = sift2rootsift(descs1)\n",
    "    descs2 = sift2rootsift(descs2)\n",
    "    snn_ratio, idxs = KF.match_smnn(torch.from_numpy(descs1),\n",
    "                                    torch.from_numpy(descs2), 0.95)\n",
    "    tentatives = cv2_matches_from_kornia(snn_ratio, idxs)\n",
    "    src_pts = np.float32([ kps1[m.queryIdx].pt for m in tentatives ]).reshape(-1,2)\n",
    "    dst_pts = np.float32([ kps2[m.trainIdx].pt for m in tentatives ]).reshape(-1,2)\n",
    "    F, inlier_mask = cv2.findFundamentalMat(src_pts, dst_pts, cv2.USAC_MAGSAC, 0.25, 0.999, 100000)\n",
    "    return F\n",
    "\n",
    "\n",
    "subset = 'test'\n",
    "dset = WxBSDataset('.WxBS', subset=subset, download=True)\n",
    "\n",
    "\n",
    "F_results_RootSIFT = []\n",
    "\n",
    "for pair_dict in tqdm(dset):\n",
    "    current_F = estimate_F_WithRootSIFT(pair_dict['img1'], pair_dict['img2'])\n",
    "    F_results_RootSIFT.append(current_F)\n",
    "\n",
    "result_dict_rootsift, thresholds = evaluate_Fs(F_results_RootSIFT, subset)"
   ]
  },
  {
   "cell_type": "markdown",
   "metadata": {},
   "source": [
    "We can check results for individual image pairs, or just take an average"
   ]
  },
  {
   "cell_type": "code",
   "execution_count": 5,
   "metadata": {},
   "outputs": [
    {
     "name": "stdout",
     "output_type": "stream",
     "text": [
      "dict_keys(['WGABS/kremlin', 'WGABS/kyiv', 'WGABS/strahov', 'WGABS/vatutin', 'WGALBS/bridge', 'WGALBS/flood', 'WGALBS/kyiv_dolltheater', 'WGALBS/rovenki', 'WGALBS/stadium', 'WGALBS/submarine', 'WGALBS/submarine2', 'WGALBS/tyn', 'WGALBS/zanky', 'WGBS/kn-church', 'WGLBS/alupka', 'WGLBS/berlin', 'WGLBS/charlottenburg', 'WGLBS/church', 'WGLBS/him', 'WGLBS/maidan', 'WGLBS/ministry', 'WGLBS/silasveta2', 'WGLBS/warsaw', 'WGSBS/kettle', 'WGSBS/kettle2', 'WGSBS/lab', 'WGSBS/lab2', 'WGSBS/window', 'WLABS/dh', 'WLABS/kpi', 'WLABS/kyiv', 'WLABS/ministry', 'average'])\n"
     ]
    },
    {
     "name": "stderr",
     "output_type": "stream",
     "text": [
      "/opt/homebrew/Caskroom/miniforge/base/envs/python39/lib/python3.9/site-packages/ipykernel/ipkernel.py:283: DeprecationWarning: `should_run_async` will not call `transform_cell` automatically in the future. Please pass the result to `transformed_cell` argument and any exception that happen during thetransform in `preprocessing_exc_tuple` in IPython 7.17 and above.\n",
      "  and should_run_async(code)\n"
     ]
    },
    {
     "data": {
      "text/plain": [
       "<matplotlib.legend.Legend at 0x12dedf2e0>"
      ]
     },
     "execution_count": 5,
     "metadata": {},
     "output_type": "execute_result"
    },
    {
     "data": {
      "image/png": "[encoded data removed]",
      "text/plain": [
       "<Figure size 432x288 with 1 Axes>"
      ]
     },
     "metadata": {
      "needs_background": "light"
     },
     "output_type": "display_data"
    }
   ],
   "source": [
    "print(result_dict_rootsift.keys())\n",
    "plt.figure()\n",
    "plt.plot(thresholds, result_dict_rootsift['average'], '-x')\n",
    "plt.ylim([0,1.05])\n",
    "plt.xlabel('Thresholds')\n",
    "plt.ylabel('Recall on GT corrs')\n",
    "plt.grid(True)\n",
    "plt.legend(['RootSIFT + MAGSAC++'])"
   ]
  },
  {
   "cell_type": "markdown",
   "metadata": {},
   "source": [
    "I have run several popular recent methods in this [Colab](https://colab.research.google.com/drive/1yrCFyEoAc0HyqYCRVvzJDh5kQT2Dc3XA?usp=sharing). The code is very dirty, that is why I don't put it here, and just present results."
   ]
  },
  {
   "cell_type": "markdown",
   "metadata": {},
   "source": [
    "## Methods tested\n",
    "\n",
    "\n",
    "### Local features without learned matching.\n",
    "\n",
    "[RootSIFT](https://www.robots.ox.ac.uk/~vgg/publications/2012/Arandjelovic12/arandjelovic12.pdf) (ICCV1999 - CVPR-2012), [DoG](https://www.cs.ubc.ca/~lowe/papers/ijcv04.pdf)+[HardNet](https://arxiv.org/pdf/1705.10872.pdf) (NeurIPS 2017), [R2D2](https://arxiv.org/abs/1906.06195) (NeurIPS 2019), [DISK](https://arxiv.org/abs/2006.13566) (NeurIPS 2020).\n",
    "\n",
    "\n",
    "### Local features with learned matching.\n",
    "\n",
    "[SuperGlue](https://arxiv.org/abs/1911.11763) (CVPR2020) uses attention-based graph neural network to match SuperPoint local features.\n",
    "\n",
    "### Dense matching\n",
    "\n",
    "[PDCNet](https://prunetruong.com/research/pdcnet) (CVPR 2021). On top of pretrained ImageNet coarse-to-fine feature correlation,  PDCNet predicts a dense flow and a confidence for each pixel. Trained on huge dataset with synthetic warps.\n",
    "\n",
    "[Patch2pix](https://arxiv.org/abs/2012.01909) (CVPR 2021). Similarly to PDCNet, patch2pix is uses pretrained ImageNet features to get the initial corresponcences. Then the matches are progressively refined or rejected with a regressor network.\n",
    "\n",
    "[DFM](https://arxiv.org/abs/2106.07791) (CVPRW 2021). Like PDCNet and Patch2pix, DFM uses ImageNet-pretrained and frozen VGGNet backbone as dense feature extractor. Unlike them, DFM does not requite any training and relies on simple handcrafted coarse-to-fine matching from conv5 to conv1. \n",
    "\n",
    "\n",
    "### Dense matching with transformers\n",
    "\n",
    "[COTR](https://arxiv.org/abs/2103.14167), (ICCV2021). Given the pixel location in a query image, COTR finds a corresponing location in the reference image. It operated on the 16x16 feature map produced by pretrained ImageNet model, which then are fed together with a positional embeddings to a transformer-based regressor.\n",
    "It is also the slowest method among evaluated - because you have to run it *per each pixel separately*, if want dense correspondences.\n",
    "\n",
    "[LoFTR](https://zju3dv.github.io/loftr/) (CVPR2021). LoFTR is very similar to Patch2pix, with the difference of using transformer architecture to for both coarse initial matching and consequent refinement. \n",
    "The second difference, is that, unlike all other methods, which are using ImageNet-pretrained models as a feature backbone, LoFTR trains ResNet18 *from scratch* .\n",
    "\n",
    "\n",
    "## Results & Discussion\n",
    "\n",
    "![image.png](2021-07-30-Reviving-WxBS-benchmark_files/att_00000.png)\n",
    "\n",
    "\n"
   ]
  },
  {
   "cell_type": "markdown",
   "metadata": {},
   "source": [
    "The clear leader is LoFTR, then we have (patch2pix, COTR and SuperGlue) group, followed by (PDCNet, DISK, R2D2). Then DoG-HardNet and RootSIFT, where latter has barely matched couple of image pairs correctly.\n",
    "\n",
    "I have no idea, why LoFTR is so good, my guesses would be richer training data and training the backbone from scratch, instead of relying on ImageNet feaures. I am also quite surprised by the great performance of the patch2pix, which probably can be improved even more, if the backbone would be at least fine-tuned.\n",
    "\n",
    "Another surprise is a great performance of the DFM matcher, which is slightly better than PDCNet and worse (but comparable) than COTR. My hypothesis is that all this methods rely on the same ImageNet backbone: if they fail, all the methods fail.\n",
    "\n",
    "Regarding SuperGlue - one of my guesses is that original SuperPoint features were not trained for different illuminations. Moreover, in some images, there just not enough matching corners -  when I was annotating the correspondences, I have to use also \"center of the blobs\".\n",
    "\n",
    "\n",
    "Finally, I would like to that than even excellent LofTR result is far from the ideal -- there are stil tens of pairs, where it fails. \n",
    "\n",
    "P.S. I would also like to thank Prune Truong and Ufuk Efe who helped me to debug my originally wrong run of the PDCNet and DFM respectively."
   ]
  },
  {
   "cell_type": "markdown",
   "metadata": {},
   "source": [
    "\n",
    "### Qualiative examples\n",
    "\n",
    "Here are some examples of how different methods work on the same image pairs.\n",
    "\n",
    "### Season + viewpoint\n",
    "\n",
    "LoFTR\n",
    "\n",
    "![image.png](2021-07-28-Reviving-WxBS-benchmark_files/att_00006.png)\n",
    "\n",
    "SuperGlue\n",
    "\n",
    "![image.png](2021-07-28-Reviving-WxBS-benchmark_files/att_00007.png)\n",
    "\n",
    "patch2pix\n",
    "\n",
    "![image.png](2021-07-28-Reviving-WxBS-benchmark_files/att_00008.png)\n",
    "\n",
    "### Thermal vs visible + viewpoint \n",
    "\n",
    "\n",
    "LoFTR\n",
    "\n",
    "![image.png](2021-07-28-Reviving-WxBS-benchmark_files/att_00011.png)\n",
    "\n",
    "SuperGlue\n",
    "\n",
    "![image.png](2021-07-28-Reviving-WxBS-benchmark_files/att_00010.png)\n",
    "\n",
    "patch2pix\n",
    "\n",
    "![image.png](2021-07-28-Reviving-WxBS-benchmark_files/att_00009.png)\n",
    "\n",
    "### Season + illumination + viewpoint\n",
    "\n",
    "LoFTR\n",
    "\n",
    "![image.png](2021-07-28-Reviving-WxBS-benchmark_files/att_00014.png)\n",
    "\n",
    "SuperGlue\n",
    "\n",
    "![image.png](2021-07-28-Reviving-WxBS-benchmark_files/att_00016.png)\n",
    "\n",
    "patch2pix\n",
    "\n",
    "![image.png](2021-07-28-Reviving-WxBS-benchmark_files/att_00017.png)\n",
    "\n",
    "\n",
    "### Illumination + viewpoint change (zoom)\n",
    "\n",
    "LoFTR\n",
    "\n",
    "![image.png](2021-07-28-Reviving-WxBS-benchmark_files/att_00018.png)\n",
    "\n",
    "\n",
    "SuperGlue\n",
    "![image.png](2021-07-28-Reviving-WxBS-benchmark_files/att_00019.png)\n",
    "\n",
    "\n",
    "patch2pix\n",
    "\n",
    "![image.png](2021-07-28-Reviving-WxBS-benchmark_files/att_00020.png)\n",
    "\n",
    "As you can, see, there are many incorrect correspondences even in those images, where methods are performing well.\n",
    "\n",
    "Here I will conclude and go to vacation.\n",
    "\n",
    "In the 2nd part of the post, I would like to evaluate COTR, PDCNet and different dense descriptors directly on the GT correspondences, by giving a point in image A and asking for point in image B. "
   ]
  }
 ],
 "metadata": {
  "kernelspec": {
   "display_name": "Python 3",
   "language": "python",
   "name": "python3"
  },
  "language_info": {
   "codemirror_mode": {
    "name": "ipython",
    "version": 3
   },
   "file_extension": ".py",
   "mimetype": "text/x-python",
   "name": "python",
   "nbconvert_exporter": "python",
   "pygments_lexer": "ipython3",
   "version": "3.9.4"
  },
  "latex_envs": {
   "LaTeX_envs_menu_present": true,
   "autoclose": false,
   "autocomplete": true,
   "bibliofile": "biblio.bib",
   "cite_by": "key",
   "current_citInitial": 1,
   "eqLabelWithNumbers": true,
   "eqNumInitial": 1,
   "hotkeys": {
    "equation": "Ctrl-E",
    "itemize": "Ctrl-I"
   },
   "labels_anchors": true,
   "latex_user_defs": false,
   "report_style_numbering": false,
   "user_envs_cfg": false
  }
 },
 "nbformat": 4,
 "nbformat_minor": 2
}
